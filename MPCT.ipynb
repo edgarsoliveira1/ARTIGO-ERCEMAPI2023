{
 "cells": [
  {
   "cell_type": "code",
   "execution_count": 1,
   "metadata": {},
   "outputs": [],
   "source": [
    "from hyperopt import hp, fmin, tpe, Trials\n",
    "from datetime import datetime\n",
    "from functools import partial\n",
    "from sklearn import metrics\n",
    "import pandas as pd\n",
    "import numpy as np\n",
    "import warnings\n",
    "warnings.filterwarnings(\"ignore\")"
   ]
  },
  {
   "cell_type": "code",
   "execution_count": 6,
   "metadata": {},
   "outputs": [],
   "source": [
    "dataset_path = './groundTruthGenerator/groundTruth'"
   ]
  },
  {
   "cell_type": "code",
   "execution_count": 7,
   "metadata": {},
   "outputs": [],
   "source": [
    "class LinearSpeedBounded:\n",
    "    def __init__(self, threshold):\n",
    "        self.threshold = threshold\n",
    "\n",
    "    def __call__(self, p1: [float, float, float], p2: [float, float, float]) -> bool:\n",
    "        id, lat0, lon0, t1 = p1\n",
    "        id, lat1, lon1, t2 = p2\n",
    "        tdiff = t2 - t1 \n",
    "        if not tdiff > 0:\n",
    "            return False\n",
    "        len = self.calculate_distance(lat0, lon0, lat1, lon1)\n",
    "        return len / tdiff <= self.threshold\n",
    "\n",
    "    @staticmethod\n",
    "    def calculate_distance(lat1, lon1, lat2, lon2):\n",
    "        # Implement the logic to calculate the distance between two geographic coordinates here\n",
    "        # You can use libraries like geopy or haversine for this calculation\n",
    "        # Example using haversine formula:\n",
    "        from math import radians, sin, cos, sqrt, atan2\n",
    "\n",
    "        # Radius of the Earth in km\n",
    "        radius = 6371.0\n",
    "\n",
    "        # Convert latitude and longitude from degrees to radians\n",
    "        lat1 = radians(lat1)\n",
    "        lon1 = radians(lon1)\n",
    "        lat2 = radians(lat2)\n",
    "        lon2 = radians(lon2)\n",
    "\n",
    "        # Haversine formula\n",
    "        dlon = lon2 - lon1\n",
    "        dlat = lat2 - lat1\n",
    "        a = sin(dlat / 2)**2 + cos(lat1) * cos(lat2) * sin(dlon / 2)**2\n",
    "        c = 2 * atan2(sqrt(a), sqrt(1 - a))\n",
    "        distance = radius * c\n",
    "\n",
    "        return distance\n"
   ]
  },
  {
   "cell_type": "code",
   "execution_count": 8,
   "metadata": {},
   "outputs": [],
   "source": [
    "# Maximum Physically Consiste Trajectories\n",
    "# published in SIGSPATIAL 2019\n",
    "class MPCT:\n",
    "    def __init__(self, threshold, Predicate, inx='index', lat='x', lng='y', t='timestep'):\n",
    "        self.threshold = threshold\n",
    "        self._Predicate = Predicate\n",
    "        self.predicate = Predicate(threshold)\n",
    "        self.inx = inx\n",
    "        self.lat = lat\n",
    "        self.lng = lng\n",
    "        self.t = t\n",
    "\n",
    "    def _mpct(self, input_data):\n",
    "        sequences = []\n",
    "        \n",
    "        for item in input_data:\n",
    "            extend_subsequence = False\n",
    "            \n",
    "            for sequence in sequences:\n",
    "                prev = sequence[-1] if sequence else None\n",
    "                \n",
    "                if prev is not None and self.predicate(prev, item):\n",
    "                    sequence.append(item)\n",
    "                    extend_subsequence = True\n",
    "            \n",
    "            if not extend_subsequence:\n",
    "                sequences.append([item])\n",
    "        \n",
    "        sequences.sort(key=lambda seq: len(seq), reverse=True)\n",
    "        \n",
    "        max_size = len(sequences[0])\n",
    "        sequences = [seq for seq in sequences if len(seq) == max_size]\n",
    "        \n",
    "        return sequences\n",
    "    \n",
    "    def predict(self, df=pd.DataFrame):\n",
    "        trajectory = df[[self.inx, self.lat, self.lng, self.t]].values\n",
    "        trajectory = list(map(lambda t: [ t[0], t[1], t[2], t[3]], trajectory))\n",
    "        sequences = self._mpct(trajectory)\n",
    "        df['pred'] = False\n",
    "        stop_indexes = []\n",
    "        for s in sequences[0]:\n",
    "            stop_indexes.append(s[0])\n",
    "        stops = df['index'].isin(stop_indexes)\n",
    "        df.loc[stops, 'pred'] = True\n",
    "        return df['pred']"
   ]
  },
  {
   "cell_type": "markdown",
   "metadata": {},
   "source": [
    "### Hyperparameter Optimization - Hyperopt"
   ]
  },
  {
   "cell_type": "code",
   "execution_count": 9,
   "metadata": {},
   "outputs": [],
   "source": [
    "Model = MPCT\n",
    "def optimize(params, data):\n",
    "    model = Model(**params, Predicate=LinearSpeedBounded)\n",
    "    f1s = []\n",
    "    veh_id_unique = data['id'].unique()\n",
    "    for veh_id in veh_id_unique:\n",
    "        trajectory = data[data['id'] == veh_id]\n",
    "        y_true = trajectory['stop']\n",
    "        y_pred = model.predict(trajectory.drop(columns=['stop']))\n",
    "        f1s.append(metrics.f1_score(y_true, y_pred))\n",
    "    return -1.0 * np.mean(f1s)"
   ]
  },
  {
   "cell_type": "code",
   "execution_count": 10,
   "metadata": {},
   "outputs": [],
   "source": [
    "param_space = {\n",
    "    'threshold': hp.uniform('threshold',0, 0.000001),\n",
    "}"
   ]
  },
  {
   "cell_type": "code",
   "execution_count": 11,
   "metadata": {},
   "outputs": [],
   "source": [
    "move_stop_train = pd.read_csv(f'{dataset_path}/stop_train.csv')\n",
    "move_stop_train['index'] = move_stop_train.index"
   ]
  },
  {
   "cell_type": "code",
   "execution_count": 12,
   "metadata": {},
   "outputs": [],
   "source": [
    "optimization_function = partial(\n",
    "    optimize,\n",
    "    data=move_stop_train,\n",
    ")"
   ]
  },
  {
   "cell_type": "code",
   "execution_count": 13,
   "metadata": {},
   "outputs": [
    {
     "name": "stdout",
     "output_type": "stream",
     "text": [
      "100%|██████████| 15/15 [51:49<00:00, 207.31s/trial, best loss: -0.6615087541557705]\n",
      "{'threshold': 7.820434877143118e-07}\n"
     ]
    }
   ],
   "source": [
    "trials = Trials()\n",
    "best_params = fmin(\n",
    "    fn=optimization_function,\n",
    "    space=param_space,\n",
    "    algo=tpe.suggest,\n",
    "    max_evals=15,\n",
    "    trials=trials,\n",
    ")\n",
    "print(best_params)"
   ]
  },
  {
   "cell_type": "markdown",
   "metadata": {},
   "source": [
    "### Test / Validation"
   ]
  },
  {
   "cell_type": "code",
   "execution_count": 14,
   "metadata": {},
   "outputs": [],
   "source": [
    "move_stop_test = pd.read_csv(f'{dataset_path}/stop_test.csv')\n",
    "move_stop_test['index'] = move_stop_test.index\n",
    "veh_id_unique = move_stop_test['id'].unique()"
   ]
  },
  {
   "cell_type": "code",
   "execution_count": 15,
   "metadata": {},
   "outputs": [
    {
     "name": "stdout",
     "output_type": "stream",
     "text": [
      "Accuracy mean: 0.9831251053428723\n",
      "Precision mean: 0.701355101722921\n",
      "Recall mean: 0.677282392132765\n",
      "F1 mean: 0.6762428990395408\n"
     ]
    }
   ],
   "source": [
    "ac_list = []\n",
    "pr_list = []\n",
    "re_list = []\n",
    "f1_list = []\n",
    "model = MPCT(**best_params, Predicate=LinearSpeedBounded)\n",
    "data = move_stop_test\n",
    "for veh_id in veh_id_unique:\n",
    "    trajectory = data[data['id'] == veh_id]\n",
    "    y_true = trajectory['stop']\n",
    "    y_pred = model.predict(trajectory.drop(columns=['stop']))\n",
    "\n",
    "    ac_list.append(metrics.accuracy_score(y_true, y_pred))\n",
    "    pr_list.append(metrics.precision_score(y_true, y_pred))\n",
    "    re_list.append(metrics.recall_score(y_true, y_pred))\n",
    "    f1_list.append(metrics.f1_score(y_true, y_pred))\n",
    "\n",
    "ac_mean = np.mean(ac_list)\n",
    "pr_mean = np.mean(pr_list)\n",
    "re_mean = np.mean(re_list)\n",
    "f1_mean = np.mean(f1_list)\n",
    "\n",
    "print('Accuracy mean:', ac_mean)\n",
    "print('Precision mean:', pr_mean)\n",
    "print('Recall mean:', re_mean)\n",
    "print('F1 mean:', f1_mean)"
   ]
  }
 ],
 "metadata": {
  "kernelspec": {
   "display_name": "py38",
   "language": "python",
   "name": "python3"
  },
  "language_info": {
   "codemirror_mode": {
    "name": "ipython",
    "version": 3
   },
   "file_extension": ".py",
   "mimetype": "text/x-python",
   "name": "python",
   "nbconvert_exporter": "python",
   "pygments_lexer": "ipython3",
   "version": "3.8.17"
  },
  "orig_nbformat": 4
 },
 "nbformat": 4,
 "nbformat_minor": 2
}
