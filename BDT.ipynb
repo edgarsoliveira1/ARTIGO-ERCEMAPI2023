{
 "cells": [
  {
   "cell_type": "code",
   "execution_count": 23,
   "metadata": {},
   "outputs": [],
   "source": [
    "from hyperopt import hp, fmin, tpe, Trials\n",
    "from functools import partial\n",
    "from sklearn import metrics\n",
    "import pandas as pd\n",
    "import numpy as np\n",
    "import math\n",
    "import warnings\n",
    "warnings.filterwarnings(\"ignore\")"
   ]
  },
  {
   "cell_type": "code",
   "execution_count": 24,
   "metadata": {},
   "outputs": [],
   "source": [
    "dataset_path = './groundTruthGenerator/groundTruth'"
   ]
  },
  {
   "cell_type": "code",
   "execution_count": 25,
   "metadata": {},
   "outputs": [],
   "source": [
    "class BDT:\n",
    "    def __init__(self, dt:float, tt:float, lat='x', lng='y', t='timestep') -> None:\n",
    "        self.dt = dt\n",
    "        self.tt = tt\n",
    "        self.lat = lat\n",
    "        self.lng = lng\n",
    "        self.t = t\n",
    "\n",
    "    def haversine_distance(self, p1, p2) -> float:\n",
    "        lat1, lon1 = p1\n",
    "        lat2, lon2 = p2\n",
    "        # Radius of the Earth in kilometers\n",
    "        earth_radius = 6371\n",
    "        # Convert latitude and longitude from degrees to radians\n",
    "        lat1 = math.radians(lat1)\n",
    "        lon1 = math.radians(lon1)\n",
    "        lat2 = math.radians(lat2)\n",
    "        lon2 = math.radians(lon2)\n",
    "        # Haversine formula\n",
    "        dlat = lat2 - lat1\n",
    "        dlon = lon2 - lon1\n",
    "        a = math.sin(dlat / 2)**2 + math.cos(lat1) * math.cos(lat2) * math.sin(dlon / 2)**2\n",
    "        c = 2 * math.atan2(math.sqrt(a), math.sqrt(1 - a))\n",
    "        # Calculate the distance\n",
    "        distance = earth_radius * c\n",
    "        return distance\n",
    "    \n",
    "\n",
    "    def _BDT(self, P:[[float, float, float]]) -> [bool]:\n",
    "        pred = []\n",
    "        i = 0\n",
    "        while i < len(P):\n",
    "            j = i + 1; token = 0\n",
    "            while j < len(P):\n",
    "                dist = self.haversine_distance(P[i, :-1], P[i+1, :-1])\n",
    "                if dist > self.dt:\n",
    "                    pjt = P[j, -1]\n",
    "                    pit = P[i, -1]\n",
    "                    dt = pjt - pit\n",
    "                    if dt > self.tt:\n",
    "                        i = j\n",
    "                        token = 1\n",
    "                        pred += [True for _ in range( j - i + 1)]\n",
    "                    break\n",
    "                j += 1\n",
    "            if token != 1:\n",
    "                pred.append(False)\n",
    "                i += 1\n",
    "        return pred\n",
    "\n",
    "    def predict(self, X:pd.DataFrame) -> [bool]:\n",
    "        trajectories = X[[self.lat, self.lng, self.t]].values\n",
    "        return self._BDT(trajectories)"
   ]
  },
  {
   "cell_type": "markdown",
   "metadata": {},
   "source": [
    "### Hyperparameter Optimization - Hyperopt"
   ]
  },
  {
   "cell_type": "code",
   "execution_count": 26,
   "metadata": {},
   "outputs": [],
   "source": [
    "def optimize(params, data):\n",
    "    model = BDT(**params)\n",
    "    f1s = []\n",
    "    veh_id_unique = data['id'].unique()\n",
    "    for veh_id in veh_id_unique:\n",
    "        trajectory = data[data['id'] == veh_id]\n",
    "        y_true = trajectory['stop']\n",
    "        y_pred = model.predict(trajectory.drop(columns=['stop']))\n",
    "        f1s.append(metrics.f1_score(y_true, y_pred))\n",
    "    return -1.0 * np.mean(f1s)"
   ]
  },
  {
   "cell_type": "code",
   "execution_count": 27,
   "metadata": {},
   "outputs": [],
   "source": [
    "param_space = {\n",
    "    'dt': hp.uniform('dt',0, 0.001),\n",
    "    'tt': hp.uniform('tt',0, 0.001),\n",
    "}"
   ]
  },
  {
   "cell_type": "code",
   "execution_count": 28,
   "metadata": {},
   "outputs": [],
   "source": [
    "move_stop_train = pd.read_csv(f'{dataset_path}/stop_train.csv')\n",
    "move_stop_train['index'] = move_stop_train.index\n",
    "veh_id_unique = move_stop_train['id'].unique()"
   ]
  },
  {
   "cell_type": "code",
   "execution_count": 29,
   "metadata": {},
   "outputs": [],
   "source": [
    "optimization_function = partial(\n",
    "    optimize,\n",
    "    data=move_stop_train,\n",
    ")"
   ]
  },
  {
   "cell_type": "code",
   "execution_count": 30,
   "metadata": {},
   "outputs": [
    {
     "name": "stdout",
     "output_type": "stream",
     "text": [
      "  0%|          | 0/15 [00:00<?, ?trial/s, best loss=?]"
     ]
    },
    {
     "name": "stdout",
     "output_type": "stream",
     "text": [
      "100%|██████████| 15/15 [34:38<00:00, 138.59s/trial, best loss: -0.020531525048725435]\n",
      "{'dt': 7.300901956605499e-05, 'tt': 0.0007859913389860952}\n"
     ]
    }
   ],
   "source": [
    "trials = Trials()\n",
    "best_params = fmin(\n",
    "    fn=optimization_function,\n",
    "    space=param_space,\n",
    "    algo=tpe.suggest,\n",
    "    max_evals=15,\n",
    "    trials=trials,\n",
    ")\n",
    "print(best_params)"
   ]
  },
  {
   "cell_type": "markdown",
   "metadata": {},
   "source": [
    "### Test / Validation"
   ]
  },
  {
   "cell_type": "code",
   "execution_count": 31,
   "metadata": {},
   "outputs": [],
   "source": [
    "move_stop_test = pd.read_csv(f'{dataset_path}/stop_test.csv')\n",
    "move_stop_test['index'] = move_stop_test.index\n",
    "veh_id_unique = move_stop_test['id'].unique()"
   ]
  },
  {
   "cell_type": "code",
   "execution_count": 32,
   "metadata": {},
   "outputs": [
    {
     "name": "stdout",
     "output_type": "stream",
     "text": [
      "Accuracy mean: 0.03308500661470595\n",
      "Precision mean: 0.010992386922691007\n",
      "Recall mean: 0.5043343587228479\n",
      "F1 mean: 0.020666115015534423\n"
     ]
    }
   ],
   "source": [
    "ac_list = []\n",
    "pr_list = []\n",
    "re_list = []\n",
    "f1_list = []\n",
    "model = BDT(**best_params)\n",
    "data = move_stop_test\n",
    "for veh_id in veh_id_unique:\n",
    "    trajectory = data[data['id'] == veh_id]\n",
    "    y_true = trajectory['stop']\n",
    "    y_pred = model.predict(trajectory.drop(columns=['stop']))\n",
    "\n",
    "    ac_list.append(metrics.accuracy_score(y_true, y_pred))\n",
    "    pr_list.append(metrics.precision_score(y_true, y_pred))\n",
    "    re_list.append(metrics.recall_score(y_true, y_pred))\n",
    "    f1_list.append(metrics.f1_score(y_true, y_pred))\n",
    "\n",
    "ac_mean = np.mean(ac_list)\n",
    "pr_mean = np.mean(pr_list)\n",
    "re_mean = np.mean(re_list)\n",
    "f1_mean = np.mean(f1_list)\n",
    "\n",
    "print('Accuracy mean:', ac_mean)\n",
    "print('Precision mean:', pr_mean)\n",
    "print('Recall mean:', re_mean)\n",
    "print('F1 mean:', f1_mean)"
   ]
  }
 ],
 "metadata": {
  "kernelspec": {
   "display_name": "py38",
   "language": "python",
   "name": "python3"
  },
  "language_info": {
   "codemirror_mode": {
    "name": "ipython",
    "version": 3
   },
   "file_extension": ".py",
   "mimetype": "text/x-python",
   "name": "python",
   "nbconvert_exporter": "python",
   "pygments_lexer": "ipython3",
   "version": "3.8.17"
  },
  "orig_nbformat": 4
 },
 "nbformat": 4,
 "nbformat_minor": 2
}
