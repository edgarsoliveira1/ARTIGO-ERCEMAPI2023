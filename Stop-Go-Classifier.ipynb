{
 "cells": [
  {
   "cell_type": "code",
   "execution_count": 1,
   "metadata": {},
   "outputs": [],
   "source": [
    "from StopGoClassifier import StopGoClassifier\n",
    "from datetime import datetime\n",
    "from sklearn import metrics\n",
    "import seaborn as sns\n",
    "import pandas as pd\n",
    "import numpy as np\n",
    "import warnings\n",
    "warnings.filterwarnings(\"ignore\")"
   ]
  },
  {
   "cell_type": "code",
   "execution_count": 2,
   "metadata": {},
   "outputs": [],
   "source": [
    "dataset_path = './groundTruthGenerator/groundTruth'"
   ]
  },
  {
   "cell_type": "markdown",
   "metadata": {},
   "source": [
    "### Test / Validation"
   ]
  },
  {
   "cell_type": "code",
   "execution_count": 3,
   "metadata": {},
   "outputs": [],
   "source": [
    "move_stop_test = pd.read_csv(f'{dataset_path}/stop_test.csv')\n",
    "move_stop_test['index'] = move_stop_test.index\n",
    "veh_id_unique = move_stop_test['id'].unique()"
   ]
  },
  {
   "cell_type": "code",
   "execution_count": 6,
   "metadata": {},
   "outputs": [
    {
     "name": "stdout",
     "output_type": "stream",
     "text": [
      "Accuracy mean: 0.9624194799923896\n",
      "Precision mean: 0.0\n",
      "Recall mean: 0.0\n",
      "F1 mean: 0.0\n"
     ]
    }
   ],
   "source": [
    "ac_list = []\n",
    "pr_list = []\n",
    "re_list = []\n",
    "f1_list = []\n",
    "model = StopGoClassifier()\n",
    "data = move_stop_test\n",
    "for veh_id in veh_id_unique:\n",
    "    staga = data[data['id'] == veh_id]\n",
    "    y_true = staga['stop']\n",
    "    X = staga.drop(columns=['stop'])\n",
    "    X['ts'] = X['timestep'].apply(lambda t: datetime.fromtimestamp(t))\n",
    "    X['ts'] = pd.to_datetime(X['timestep'], utc=True)\n",
    "    X = X.set_index('ts').tz_convert(None).reset_index()\n",
    "    model.read(X['ts'], X['x'], X['y'])\n",
    "    stop_intervals = model.run()\n",
    "\n",
    "    pred = X[['timestep']].copy()\n",
    "    pred['stop'] = False\n",
    "    for i in stop_intervals.values:\n",
    "        start, stop = i[0], i[1]\n",
    "        interval = pred['timestep'].between(start, stop, inclusive='both')\n",
    "        pred[interval] = True\n",
    "\n",
    "    ac_list.append(metrics.accuracy_score(y_true, pred['stop']))\n",
    "    pr_list.append(metrics.precision_score(y_true, pred['stop']))\n",
    "    re_list.append(metrics.recall_score(y_true, pred['stop']))\n",
    "    f1_list.append(metrics.f1_score(y_true, pred['stop']))\n",
    "\n",
    "ac_mean = np.mean(ac_list)\n",
    "pr_mean = np.mean(pr_list)\n",
    "re_mean = np.mean(re_list)\n",
    "f1_mean = np.mean(f1_list)\n",
    "\n",
    "print('Accuracy mean:', ac_mean)\n",
    "print('Precision mean:', pr_mean)\n",
    "print('Recall mean:', re_mean)\n",
    "print('F1 mean:', f1_mean)"
   ]
  }
 ],
 "metadata": {
  "kernelspec": {
   "display_name": "py38",
   "language": "python",
   "name": "python3"
  },
  "language_info": {
   "codemirror_mode": {
    "name": "ipython",
    "version": 3
   },
   "file_extension": ".py",
   "mimetype": "text/x-python",
   "name": "python",
   "nbconvert_exporter": "python",
   "pygments_lexer": "ipython3",
   "version": "3.8.17"
  }
 },
 "nbformat": 4,
 "nbformat_minor": 2
}
