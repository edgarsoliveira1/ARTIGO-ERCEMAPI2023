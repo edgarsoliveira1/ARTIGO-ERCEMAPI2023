{
  "cells": [
    {
      "cell_type": "code",
      "execution_count": 1,
      "metadata": {
        "colab": {
          "base_uri": "https://localhost:8080/"
        },
        "id": "pbWLfNHDsGwL",
        "outputId": "22a213e7-2a00-47ae-879f-3b3e097f3d9e"
      },
      "outputs": [
        {
          "name": "stdout",
          "output_type": "stream",
          "text": [
            "Collecting infostop\n",
            "  Downloading infostop-0.1.9.tar.gz (18 kB)\n",
            "  Preparing metadata (setup.py) ... \u001b[?25l\u001b[?25hdone\n",
            "Collecting pybind11>=2.4 (from infostop)\n",
            "  Using cached pybind11-2.11.1-py3-none-any.whl (227 kB)\n",
            "Collecting infomap==1.0.6 (from infostop)\n",
            "  Downloading infomap-1.0.6.tar.gz (254 kB)\n",
            "\u001b[2K     \u001b[90m━━━━━━━━━━━━━━━━━━━━━━━━━━━━━━━━━━━━━━━\u001b[0m \u001b[32m255.0/255.0 kB\u001b[0m \u001b[31m3.7 MB/s\u001b[0m eta \u001b[36m0:00:00\u001b[0m\n",
            "\u001b[?25h  Preparing metadata (setup.py) ... \u001b[?25l\u001b[?25hdone\n",
            "Requirement already satisfied: folium>=0.7.0 in /usr/local/lib/python3.10/dist-packages (from infostop) (0.14.0)\n",
            "Requirement already satisfied: numpy in /usr/local/lib/python3.10/dist-packages (from infostop) (1.23.5)\n",
            "Requirement already satisfied: tqdm in /usr/local/lib/python3.10/dist-packages (from infostop) (4.66.1)\n",
            "Requirement already satisfied: scikit-learn in /usr/local/lib/python3.10/dist-packages (from infostop) (1.2.2)\n",
            "Requirement already satisfied: branca>=0.6.0 in /usr/local/lib/python3.10/dist-packages (from folium>=0.7.0->infostop) (0.6.0)\n",
            "Requirement already satisfied: jinja2>=2.9 in /usr/local/lib/python3.10/dist-packages (from folium>=0.7.0->infostop) (3.1.2)\n",
            "Requirement already satisfied: requests in /usr/local/lib/python3.10/dist-packages (from folium>=0.7.0->infostop) (2.31.0)\n",
            "Requirement already satisfied: scipy>=1.3.2 in /usr/local/lib/python3.10/dist-packages (from scikit-learn->infostop) (1.11.3)\n",
            "Requirement already satisfied: joblib>=1.1.1 in /usr/local/lib/python3.10/dist-packages (from scikit-learn->infostop) (1.3.2)\n",
            "Requirement already satisfied: threadpoolctl>=2.0.0 in /usr/local/lib/python3.10/dist-packages (from scikit-learn->infostop) (3.2.0)\n",
            "Requirement already satisfied: MarkupSafe>=2.0 in /usr/local/lib/python3.10/dist-packages (from jinja2>=2.9->folium>=0.7.0->infostop) (2.1.3)\n",
            "Requirement already satisfied: charset-normalizer<4,>=2 in /usr/local/lib/python3.10/dist-packages (from requests->folium>=0.7.0->infostop) (3.3.0)\n",
            "Requirement already satisfied: idna<4,>=2.5 in /usr/local/lib/python3.10/dist-packages (from requests->folium>=0.7.0->infostop) (3.4)\n",
            "Requirement already satisfied: urllib3<3,>=1.21.1 in /usr/local/lib/python3.10/dist-packages (from requests->folium>=0.7.0->infostop) (2.0.6)\n",
            "Requirement already satisfied: certifi>=2017.4.17 in /usr/local/lib/python3.10/dist-packages (from requests->folium>=0.7.0->infostop) (2023.7.22)\n",
            "Building wheels for collected packages: infostop, infomap\n",
            "  Building wheel for infostop (setup.py) ... \u001b[?25l\u001b[?25hdone\n",
            "  Created wheel for infostop: filename=infostop-0.1.9-cp310-cp310-linux_x86_64.whl size=861311 sha256=4c9fa1cb7a98872b34445cf24957b8ac45cc80073c3a5c9b5be7fdce96f50dd5\n",
            "  Stored in directory: /root/.cache/pip/wheels/aa/e8/33/05a8cf9184a7d9b11c9c118cd4119bf82d7965d07fe66e1604\n",
            "  Building wheel for infomap (setup.py) ... \u001b[?25l\u001b[?25hdone\n",
            "  Created wheel for infomap: filename=infomap-1.0.6-cp310-cp310-linux_x86_64.whl size=7668566 sha256=12ced0a4c861596c15601bb73f213d1082881ad21feac64f01e5e8b4fa502261\n",
            "  Stored in directory: /root/.cache/pip/wheels/e4/c3/ea/9dc37fa097983a1aba9c2715d31975e99a2acff430d30ee88b\n",
            "Successfully built infostop infomap\n",
            "Installing collected packages: pybind11, infomap, infostop\n",
            "Successfully installed infomap-1.0.6 infostop-0.1.9 pybind11-2.11.1\n"
          ]
        }
      ],
      "source": [
        "!pip install infostop"
      ]
    },
    {
      "cell_type": "code",
      "execution_count": 2,
      "metadata": {
        "id": "UJDVvEdlsSdR"
      },
      "outputs": [],
      "source": [
        "from sklearn import metrics\n",
        "from infostop import Infostop\n",
        "import pandas as pd\n",
        "import numpy as np"
      ]
    },
    {
      "cell_type": "code",
      "execution_count": 1,
      "metadata": {},
      "outputs": [],
      "source": [
        "dataset_path = './groundTruthGenerator/groundTruth'"
      ]
    },
    {
      "cell_type": "markdown",
      "metadata": {
        "id": "3j5GmuoN_j_v"
      },
      "source": [
        "### Test / Validation"
      ]
    },
    {
      "cell_type": "code",
      "execution_count": 3,
      "metadata": {
        "id": "pyMo5KBzF3Bb"
      },
      "outputs": [],
      "source": [
        "move_stop_test = pd.read_csv(f'{dataset_path}/stop_test.csv')\n",
        "move_stop_test['index'] = move_stop_test.index\n",
        "veh_id_unique = move_stop_test['id'].unique()"
      ]
    },
    {
      "cell_type": "code",
      "execution_count": null,
      "metadata": {
        "id": "IL0dmv64tStg"
      },
      "outputs": [],
      "source": [
        "ac_list = []\n",
        "pr_list = []\n",
        "re_list = []\n",
        "f1_list = []\n",
        "model = Infostop()\n",
        "for veh_id in veh_id_unique:\n",
        "    veh_traj = move_stop_test[move_stop_test['id'] == veh_id]\n",
        "    y_true = veh_traj['stop']\n",
        "    data = veh_traj[['x', 'y']].values\n",
        "    try:\n",
        "      pred = model.fit_predict(data)\n",
        "      y_pred = np.vectorize(lambda x: x != -1)(pred)\n",
        "    except:\n",
        "      # No stop found!\n",
        "      y_pred = [False for i in range(len(y_true))]\n",
        "\n",
        "    ac_list.append(metrics.accuracy_score(y_true, y_pred))\n",
        "    pr_list.append(metrics.precision_score(y_true, y_pred))\n",
        "    re_list.append(metrics.recall_score(y_true, y_pred))\n",
        "    f1_list.append(metrics.f1_score(y_true, y_pred))\n",
        "\n",
        "ac_mean = np.mean(ac_list)\n",
        "pr_mean = np.mean(pr_list)\n",
        "re_mean = np.mean(re_list)\n",
        "f1_mean = np.mean(f1_list)\n"
      ]
    },
    {
      "cell_type": "code",
      "execution_count": 7,
      "metadata": {
        "colab": {
          "base_uri": "https://localhost:8080/"
        },
        "id": "ktIGAGVMy_G2",
        "outputId": "c05f3ad6-4f42-45b4-f372-091f6206edd0"
      },
      "outputs": [
        {
          "name": "stdout",
          "output_type": "stream",
          "text": [
            "accuracy mean: 0.2460224903200935\n",
            "precision mean: 0.05388538326102504\n",
            "recall mean: 0.8890851289297067\n",
            "f1 mean: 0.09397164570952854\n"
          ]
        }
      ],
      "source": [
        "print('accuracy mean:', ac_mean)\n",
        "print('precision mean:', pr_mean)\n",
        "print('recall mean:', re_mean)\n",
        "print('f1 mean:', f1_mean)"
      ]
    }
  ],
  "metadata": {
    "colab": {
      "provenance": []
    },
    "kernelspec": {
      "display_name": "Python 3",
      "name": "python3"
    },
    "language_info": {
      "codemirror_mode": {
        "name": "ipython",
        "version": 3
      },
      "file_extension": ".py",
      "mimetype": "text/x-python",
      "name": "python",
      "nbconvert_exporter": "python",
      "pygments_lexer": "ipython3",
      "version": "3.8.17"
    }
  },
  "nbformat": 4,
  "nbformat_minor": 0
}
