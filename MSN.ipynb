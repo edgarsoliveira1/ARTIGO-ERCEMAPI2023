{
 "cells": [
  {
   "cell_type": "code",
   "execution_count": 14,
   "metadata": {},
   "outputs": [],
   "source": [
    "from hyperopt import hp, fmin, tpe, Trials\n",
    "from functools import partial\n",
    "from sklearn import metrics\n",
    "import pandas as pd\n",
    "import numpy as np\n",
    "import math\n",
    "import warnings\n",
    "warnings.filterwarnings(\"ignore\")"
   ]
  },
  {
   "cell_type": "code",
   "execution_count": 15,
   "metadata": {},
   "outputs": [],
   "source": [
    "dataset_path = './groundTruthGenerator/groundTruth'"
   ]
  },
  {
   "cell_type": "code",
   "execution_count": 16,
   "metadata": {},
   "outputs": [],
   "source": [
    "move_stop_train = pd.read_csv(f'{dataset_path}/stop_train.csv')\n",
    "move_stop_train['index'] = move_stop_train.index"
   ]
  },
  {
   "cell_type": "code",
   "execution_count": 17,
   "metadata": {},
   "outputs": [],
   "source": [
    "\n",
    "from haversine import Haversine\n",
    "from geopy import distance\n",
    "from random import uniform\n",
    "from math import radians\n",
    "class MSN:\n",
    "    def __init__(self, es=0, et=0, ev=0, o=0, p=0.5):\n",
    "        self.St_max = 0\n",
    "        self.Tt_max = 0\n",
    "        self.Vt_max = 0\n",
    "        self.At_max = 0\n",
    "        self.St = pd.Series() # distances time series\n",
    "        self.Tt = pd.Series() # duration time series\n",
    "        self.Vt = pd.Series() # speed time series\n",
    "        self.At = pd.Series() # turning angles time series\n",
    "        self.es = es # distance threshold\n",
    "        self.et = et # duration threshold\n",
    "        self.ev = ev # speed threshold\n",
    "        self.o = o # minimum turning\n",
    "        self.p = p # e lower and upper boundaries of an interval from where some value will be randomly selected and added to the duration value of each point\n",
    "\n",
    "    def calculate_turn_angle(self, x1, y1, x2, y2, x3, y3):\n",
    "        # Calculate vectors from (x1, y1) to (x2, y2) and from (x2, y2) to (x3, y3)\n",
    "        vector1 = (x2 - x1, y2 - y1)\n",
    "        vector2 = (x3 - x2, y3 - y2)\n",
    "        # Calculate the magnitudes of the vectors\n",
    "        magnitude1 = math.sqrt(vector1[0] ** 2 + vector1[1] ** 2) + 0.0000001\n",
    "        magnitude2 = math.sqrt(vector2[0] ** 2 + vector2[1] ** 2) + 0.0000001\n",
    "        # Check if either vector has zero magnitude\n",
    "        if magnitude1 == 0 or magnitude2 == 0:\n",
    "            raise ValueError(\"Vectors have zero magnitude, cannot calculate angle.\")\n",
    "        # Calculate the dot product of the two vectors\n",
    "        dot_product = vector1[0] * vector2[0] + vector1[1] * vector2[1]\n",
    "        # Ensure that dot_product is within the valid range [-1, 1]\n",
    "        dot_product = max(-1, min(1, dot_product))\n",
    "        # Calculate the cosine of the angle between the vectors using the dot product\n",
    "        cosine_theta = dot_product\n",
    "        # Calculate the angle in radians using the arccosine function\n",
    "        theta_radians = math.acos(cosine_theta)\n",
    "        # Convert the angle to degrees\n",
    "        theta_degrees = math.degrees(theta_radians)\n",
    "        return theta_degrees\n",
    "    \n",
    "    def distances_durations_speeds_angles(self, points:[[float, float, float]]):\n",
    "        distances = pd.Series()\n",
    "        durations = pd.Series()\n",
    "        speeds = pd.Series()\n",
    "        turn_angles = pd.Series()\n",
    "        for i in range(len(points) - 1):\n",
    "            # compute distance\n",
    "            p1 = points[i]\n",
    "            p2 = points[i+1]\n",
    "            distances[i] = distance(p1[:2], p2[:2]).meters\n",
    "            # compute duration\n",
    "            durations[i] = p2[2] - p1[2]\n",
    "            # compute speed\n",
    "            time_difference_hours = durations[i] / 3600.0\n",
    "            speeds[i] = distances[i] / time_difference_hours\n",
    "            if i < len(points) - 2:\n",
    "                #compute turn angle\n",
    "                p3 = points[i+2]\n",
    "                turn_angles[i] = self.calculate_turn_angle(p1[1], p1[0], p2[1], p2[0], p3[1], p3[0])\n",
    "            \n",
    "        return distances, durations, speeds, turn_angles\n",
    "\n",
    "\n",
    "    def huber_mad(self, data:np.array, k=1.4826) -> float:\n",
    "        return np.median(abs(data - data.median())) * k\n",
    "\n",
    "\n",
    "    def modifided_z_score(self, xi, x_median, MAD):\n",
    "        return (0.6745 * (xi - x_median))/MAD\n",
    "\n",
    "\n",
    "    def _msn(self, St, Tt, Vt, At, es, et, ev, o, p, quiet=True):\n",
    "        t = [i for i in range(len(St)+1)]\n",
    "        distance_outliers = []\n",
    "        Ms = self.modifided_z_score(St,  np.median(St), self.huber_mad(St))\n",
    "        for i, ms in enumerate(Ms):\n",
    "            # Identifying long distances\n",
    "            if ms > es:\n",
    "                distance_outliers.append(i)\n",
    "        direction_outliers = []\n",
    "        i = 0\n",
    "        while i < len(At)-1:\n",
    "            at1 = At[i]\n",
    "            at2 = At[i+1]\n",
    "            # Identifying sharp turning angles\n",
    "            if at1 < o and at2 < o:\n",
    "                direction_outliers.append(i)\n",
    "                direction_outliers.append(i+1)\n",
    "                i += 2\n",
    "                continue\n",
    "            i += 1\n",
    "        noise_indexes = list(set(distance_outliers) | set(direction_outliers))\n",
    "        clean_indexes = list(set(t) - set(noise_indexes))\n",
    "        # Removing noisy_points\n",
    "        Tt = Tt.drop(index=noise_indexes)\n",
    "        Vt = Vt.drop(index=noise_indexes)\n",
    "        # Adding a random uniform jitter\n",
    "        Tt = Tt + p\n",
    "        duration_outliers = []\n",
    "        Mt = self.modifided_z_score(Tt, np.median(Tt), self.huber_mad(Tt))\n",
    "        for i, mt in enumerate(Mt):\n",
    "            # Identifying long durations\n",
    "            if mt > et:\n",
    "                duration_outliers.append(i)\n",
    "        # Natural log of speed\n",
    "        Vt = np.log(Vt)\n",
    "        speed_outliers = []\n",
    "        Mv = self.modifided_z_score(Vt, np.median(Vt), self.huber_mad(Vt))\n",
    "        for i, mv in enumerate(Mv):\n",
    "            # Identifying slow speeds\n",
    "            if mv < -ev:\n",
    "                speed_outliers.append(i)\n",
    "        stop_indexes = list(set(duration_outliers).union(set(speed_outliers)))\n",
    "        move_indexes = list(set(clean_indexes) - set(stop_indexes))\n",
    "        return move_indexes, stop_indexes, noise_indexes\n",
    "\n",
    "    def predict(self, X, lng='y', lat='x', t='timestep'):\n",
    "        self.St, self.Tt, self.Vt, self.At = self.distances_durations_speeds_angles(X[[lng, lat, t]].values)\n",
    "        p = uniform(-self.p, self.p)\n",
    "        move_indexes, stop_indexes, noise_indexes = self._msn(self.St, self.Tt, self.Vt, self.At,\n",
    "                                                              self.es, self.et, self.ev, self.o, p)\n",
    "        y_pred = []\n",
    "        for i in range(len(X)):\n",
    "            if i in move_indexes:\n",
    "                y_pred.append(False)\n",
    "            elif i in stop_indexes:\n",
    "                y_pred.append(True)\n",
    "            elif i in noise_indexes:\n",
    "                y_pred.append(False)\n",
    "            else:\n",
    "                y_pred.append('unkown')\n",
    "        return y_pred\n",
    "    \n",
    "    def fit(self, X, lng='y', lat='x', t='timestep', stop='stop'):\n",
    "        St, Tt, Vt, At = self.distances_durations_speeds_angles(X[[lng, lat, t]].values)\n",
    "        def z_score(t):\n",
    "            return self.modifided_z_score(t, np.median(t), self.huber_mad(t))\n",
    "        X['St'] = z_score(St)\n",
    "        X['Tt'] = z_score(Tt)\n",
    "        X['Vt'] = z_score(Vt)\n",
    "        X['At'] = At\n",
    "        Stops = X[X[stop] == True].dropna()\n",
    "        Moves = X[X[stop] == False].dropna()\n",
    "        NaN = float('nan')\n",
    "        crr_es = Moves['St'].dropna().min()\n",
    "        self.es = min(self.es, crr_es)\n",
    "        crr_et = Stops['Tt'].dropna().min()\n",
    "        self.et = min(self.et, crr_et)\n",
    "        crr_ev = Stops['Vt'].dropna().min()\n",
    "        self.ev = min(self.ev, crr_ev)\n",
    "        crr_o = Moves['At'].dropna().max()\n",
    "        self.o = max(self.o, crr_o)\n",
    "\n",
    "    def get_params(self):\n",
    "        params = {\n",
    "            'es':self.es,\n",
    "            'et':self.et,\n",
    "            'ev':self.ev,\n",
    "            'o':self.o,\n",
    "            'p':self.p\n",
    "        }\n",
    "        return params"
   ]
  },
  {
   "cell_type": "markdown",
   "metadata": {},
   "source": [
    "### Train"
   ]
  },
  {
   "cell_type": "code",
   "execution_count": 18,
   "metadata": {},
   "outputs": [],
   "source": [
    "move_stop_train = pd.read_csv(f'{dataset_path}/stop_train.csv')\n",
    "move_stop_train['index'] = move_stop_train.index"
   ]
  },
  {
   "cell_type": "code",
   "execution_count": 19,
   "metadata": {},
   "outputs": [
    {
     "name": "stderr",
     "output_type": "stream",
     "text": [
      "100%|██████████| 1191/1191 [08:25<00:00,  2.36it/s]"
     ]
    },
    {
     "name": "stdout",
     "output_type": "stream",
     "text": [
      "{'es': 0, 'et': 0, 'ev': 0, 'o': 0, 'p': 0}\n"
     ]
    },
    {
     "name": "stderr",
     "output_type": "stream",
     "text": [
      "\n"
     ]
    }
   ],
   "source": [
    "from tqdm import tqdm\n",
    "model_trained = MSN(p=0)\n",
    "data = move_stop_train\n",
    "veh_id_unique = data['id'].unique()\n",
    "for veh_id in tqdm(veh_id_unique):\n",
    "    trajectory = data[data['id'] == veh_id]\n",
    "    trajectory = trajectory.sort_values(by='timestep')\n",
    "    model_trained.fit(trajectory)\n",
    "    if type(model_trained.es) == float('nan'):\n",
    "        break\n",
    "    if type(model_trained.et) == float('nan'):\n",
    "        break\n",
    "    if type(model_trained.ev) == float('nan'):\n",
    "        break\n",
    "    if type(model_trained.o) == float('nan'):\n",
    "        break\n",
    "print(model_trained.get_params())"
   ]
  },
  {
   "cell_type": "markdown",
   "metadata": {},
   "source": [
    "### Test / Validation"
   ]
  },
  {
   "cell_type": "code",
   "execution_count": 20,
   "metadata": {},
   "outputs": [],
   "source": [
    "move_stop_test = pd.read_csv(f'{dataset_path}/stop_test.csv')\n",
    "move_stop_test['index'] = move_stop_test.index\n",
    "veh_id_unique = move_stop_test['id'].unique()"
   ]
  },
  {
   "cell_type": "code",
   "execution_count": 21,
   "metadata": {},
   "outputs": [
    {
     "name": "stdout",
     "output_type": "stream",
     "text": [
      "Accuracy mean: 0.743042938181204\n",
      "Precision mean: 0.05189316015618539\n",
      "Recall mean: 0.38655102162814126\n",
      "F1 mean: 0.07944864778024081\n"
     ]
    }
   ],
   "source": [
    "ac_list = []\n",
    "pr_list = []\n",
    "re_list = []\n",
    "f1_list = []\n",
    "model = model_trained\n",
    "model.p = 0.5\n",
    "data = move_stop_test\n",
    "for veh_id in veh_id_unique:\n",
    "    trajectory = data[data['id'] == veh_id]\n",
    "    trajectory = trajectory.sort_values(by='timestep')\n",
    "    y_true = trajectory['stop']\n",
    "    y_pred = model.predict(trajectory.drop(columns=['stop']))\n",
    "\n",
    "    ac_list.append(metrics.accuracy_score(y_true, y_pred))\n",
    "    pr_list.append(metrics.precision_score(y_true, y_pred))\n",
    "    re_list.append(metrics.recall_score(y_true, y_pred))\n",
    "    f1_list.append(metrics.f1_score(y_true, y_pred))\n",
    "\n",
    "ac_mean = np.mean(ac_list)\n",
    "pr_mean = np.mean(pr_list)\n",
    "re_mean = np.mean(re_list)\n",
    "f1_mean = np.mean(f1_list)\n",
    "\n",
    "print('Accuracy mean:', ac_mean)\n",
    "print('Precision mean:', pr_mean)\n",
    "print('Recall mean:', re_mean)\n",
    "print('F1 mean:', f1_mean)"
   ]
  }
 ],
 "metadata": {
  "kernelspec": {
   "display_name": "py38",
   "language": "python",
   "name": "python3"
  },
  "language_info": {
   "codemirror_mode": {
    "name": "ipython",
    "version": 3
   },
   "file_extension": ".py",
   "mimetype": "text/x-python",
   "name": "python",
   "nbconvert_exporter": "python",
   "pygments_lexer": "ipython3",
   "version": "3.8.17"
  },
  "orig_nbformat": 4
 },
 "nbformat": 4,
 "nbformat_minor": 2
}
