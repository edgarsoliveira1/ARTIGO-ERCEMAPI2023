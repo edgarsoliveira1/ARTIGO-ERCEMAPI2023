{
 "cells": [
  {
   "cell_type": "code",
   "execution_count": 4,
   "metadata": {},
   "outputs": [],
   "source": [
    "from hyperopt import hp, fmin, tpe, Trials\n",
    "from functools import partial\n",
    "from sklearn import metrics\n",
    "import pandas as pd\n",
    "import numpy as np\n",
    "import math\n",
    "import warnings\n",
    "warnings.filterwarnings(\"ignore\")"
   ]
  },
  {
   "cell_type": "code",
   "execution_count": 5,
   "metadata": {},
   "outputs": [],
   "source": [
    "dataset_path = './groundTruthGenerator/groundTruth'"
   ]
  },
  {
   "cell_type": "code",
   "execution_count": 6,
   "metadata": {},
   "outputs": [],
   "source": [
    "class BVA:\n",
    "    def __init__(self, st:float, at:float, lat='x', lng='y', t='timestep') -> None:\n",
    "        self.st = st\n",
    "        self.at = at\n",
    "        self.lat = lat\n",
    "        self.lng = lng\n",
    "        self.t = t\n",
    "\n",
    "    def haversine_distance(self, p1, p2) -> float:\n",
    "        lat1, lon1 = p1\n",
    "        lat2, lon2 = p2\n",
    "        # Radius of the Earth in kilometers\n",
    "        earth_radius = 6371\n",
    "        # Convert latitude and longitude from degrees to radians\n",
    "        lat1 = math.radians(lat1)\n",
    "        lon1 = math.radians(lon1)\n",
    "        lat2 = math.radians(lat2)\n",
    "        lon2 = math.radians(lon2)\n",
    "        # Haversine formula\n",
    "        dlat = lat2 - lat1\n",
    "        dlon = lon2 - lon1\n",
    "        a = math.sin(dlat / 2)**2 + math.cos(lat1) * math.cos(lat2) * math.sin(dlon / 2)**2\n",
    "        c = 2 * math.atan2(math.sqrt(a), math.sqrt(1 - a))\n",
    "        # Calculate the distance\n",
    "        distance = earth_radius * c\n",
    "        return distance\n",
    "    \n",
    "    def delta_duration(self, d1, d2):\n",
    "        if type(d1) == pd.Timestamp and type(d2) == pd.Timestamp:\n",
    "            return (d2 - d1).total_seconds()\n",
    "        return d2 - d1\n",
    "\n",
    "    def _BVA(self, trajectories:[[float, float, float]]) -> [bool]:\n",
    "        pred = [True]\n",
    "        prv_speed = 0\n",
    "        crr_speed = 0\n",
    "        for i in range(len(trajectories)-1):\n",
    "            lat1, lon1, t1 = trajectories[i]\n",
    "            lat2, lon2, t2 = trajectories[i+1]\n",
    "            distance = self.haversine_distance([lat1, lon1], [lat2, lon2])\n",
    "            time = self.delta_duration(t1, t2)\n",
    "            prv_speed = crr_speed\n",
    "            crr_speed = distance/time\n",
    "            acceleration = (crr_speed - prv_speed) / time\n",
    "            if crr_speed <= self.st and acceleration <= self.at:\n",
    "                pred.append(True)\n",
    "                continue\n",
    "            pred.append(False)\n",
    "        return pred\n",
    "\n",
    "    def predict(self, X:pd.DataFrame) -> [bool]:\n",
    "        trajectories = X[[self.lat, self.lng, self.t]].values\n",
    "        return self._BVA(trajectories)"
   ]
  },
  {
   "cell_type": "markdown",
   "metadata": {},
   "source": [
    "### Hyperparameter Optimization - Hyperopt"
   ]
  },
  {
   "cell_type": "code",
   "execution_count": 4,
   "metadata": {},
   "outputs": [],
   "source": [
    "def optimize(params, data):\n",
    "    model = BVA(**params)\n",
    "    scores = []\n",
    "    veh_id_unique = data['id'].unique()\n",
    "    for veh_id in veh_id_unique:\n",
    "        trajectory = data[data['id'] == veh_id]\n",
    "        y_true = trajectory['stop']\n",
    "        y_pred = model.predict(trajectory.drop(columns=['stop']))\n",
    "        scores.append(metrics.f1_score(y_true, y_pred))\n",
    "    return -1.0 * np.mean(scores)"
   ]
  },
  {
   "cell_type": "code",
   "execution_count": 5,
   "metadata": {},
   "outputs": [],
   "source": [
    "param_space = {\n",
    "    'st': hp.quniform('st',0, 2, 1),\n",
    "    'at': hp.quniform('at',0, 2, 1),\n",
    "}"
   ]
  },
  {
   "cell_type": "code",
   "execution_count": 6,
   "metadata": {},
   "outputs": [],
   "source": [
    "move_stop_train = pd.read_csv(f'{dataset_path}/stop_train.csv')\n",
    "move_stop_train['index'] = move_stop_train.index\n",
    "veh_id_unique = move_stop_train['id'].unique()"
   ]
  },
  {
   "cell_type": "code",
   "execution_count": 7,
   "metadata": {},
   "outputs": [],
   "source": [
    "optimization_function = partial(\n",
    "    optimize,\n",
    "    data=move_stop_train,\n",
    ")"
   ]
  },
  {
   "cell_type": "code",
   "execution_count": 8,
   "metadata": {},
   "outputs": [
    {
     "name": "stdout",
     "output_type": "stream",
     "text": [
      "100%|██████████| 50/50 [21:32<00:00, 25.85s/trial, best loss: -0.7950952751851184]\n",
      "{'at': 2.0, 'st': 0.0}\n"
     ]
    }
   ],
   "source": [
    "trials = Trials()\n",
    "best_params = fmin(\n",
    "    fn=optimization_function,\n",
    "    space=param_space,\n",
    "    algo=tpe.suggest,\n",
    "    max_evals=50,\n",
    "    trials=trials,\n",
    ")\n",
    "print(best_params)"
   ]
  },
  {
   "cell_type": "markdown",
   "metadata": {},
   "source": [
    "### Test / Validation"
   ]
  },
  {
   "cell_type": "code",
   "execution_count": 9,
   "metadata": {},
   "outputs": [],
   "source": [
    "move_stop_test = pd.read_csv(f'{dataset_path}/stop_test.csv')\n",
    "move_stop_test['index'] = move_stop_test.index\n",
    "veh_id_unique = move_stop_test['id'].unique()"
   ]
  },
  {
   "cell_type": "code",
   "execution_count": 10,
   "metadata": {},
   "outputs": [
    {
     "name": "stdout",
     "output_type": "stream",
     "text": [
      "Accuracy mean: 0.9911283020121459\n",
      "Precision mean: 0.765344108472839\n",
      "Recall mean: 0.8693115145249825\n",
      "F1 mean: 0.8032004137344664\n"
     ]
    }
   ],
   "source": [
    "ac_list = []\n",
    "pr_list = []\n",
    "re_list = []\n",
    "f1_list = []\n",
    "model = BVA(**best_params)\n",
    "data = move_stop_test\n",
    "for veh_id in veh_id_unique:\n",
    "    trajectory = data[data['id'] == veh_id]\n",
    "    y_true = trajectory['stop']\n",
    "    y_pred = model.predict(trajectory.drop(columns=['stop']))\n",
    "\n",
    "    ac_list.append(metrics.accuracy_score(y_true, y_pred))\n",
    "    pr_list.append(metrics.precision_score(y_true, y_pred))\n",
    "    re_list.append(metrics.recall_score(y_true, y_pred))\n",
    "    f1_list.append(metrics.f1_score(y_true, y_pred))\n",
    "\n",
    "ac_mean = np.mean(ac_list)\n",
    "pr_mean = np.mean(pr_list)\n",
    "re_mean = np.mean(re_list)\n",
    "f1_mean = np.mean(f1_list)\n",
    "\n",
    "print('Accuracy mean:', ac_mean)\n",
    "print('Precision mean:', pr_mean)\n",
    "print('Recall mean:', re_mean)\n",
    "print('F1 mean:', f1_mean)"
   ]
  }
 ],
 "metadata": {
  "kernelspec": {
   "display_name": "py38",
   "language": "python",
   "name": "python3"
  },
  "language_info": {
   "codemirror_mode": {
    "name": "ipython",
    "version": 3
   },
   "file_extension": ".py",
   "mimetype": "text/x-python",
   "name": "python",
   "nbconvert_exporter": "python",
   "pygments_lexer": "ipython3",
   "version": "3.8.17"
  },
  "orig_nbformat": 4
 },
 "nbformat": 4,
 "nbformat_minor": 2
}
