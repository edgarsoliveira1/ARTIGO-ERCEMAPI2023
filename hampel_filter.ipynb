{
 "cells": [
  {
   "cell_type": "code",
   "execution_count": 1,
   "metadata": {},
   "outputs": [],
   "source": [
    "from hyperopt import hp, fmin, tpe, Trials\n",
    "from datetime import datetime\n",
    "from functools import partial\n",
    "from sklearn import metrics\n",
    "from typing import Literal\n",
    "import pandas as pd\n",
    "import numpy as np\n",
    "import math\n",
    "import warnings\n",
    "warnings.filterwarnings(\"ignore\")"
   ]
  },
  {
   "cell_type": "code",
   "execution_count": 2,
   "metadata": {},
   "outputs": [],
   "source": [
    "dataset_path = './groundTruthGenerator/groundTruth'"
   ]
  },
  {
   "cell_type": "code",
   "execution_count": 48,
   "metadata": {},
   "outputs": [],
   "source": [
    "from datetime import datetime\n",
    "class SpeedHampelFilter:\n",
    "    def __init__(self,\n",
    "                sigma_n=3, \n",
    "                distance_metric:Literal['euclidean', 'haversine']= 'haversine',\n",
    "                lat='x',\n",
    "                lng='y',\n",
    "                t='timestep'\n",
    "                    ):\n",
    "        self.sigma_n = sigma_n\n",
    "        self.distance_metric = distance_metric\n",
    "        self.lat = lat\n",
    "        self.lng = lng\n",
    "        self.t = t\n",
    "\n",
    "    def haversine_distance(self, lat1:float, lon1:float, lat2:float, lon2:float):\n",
    "        # Radius of the Earth in kilometers\n",
    "        earth_radius = 6371\n",
    "        # Convert latitude and longitude from degrees to radians\n",
    "        lat1 = math.radians(lat1)\n",
    "        lon1 = math.radians(lon1)\n",
    "        lat2 = math.radians(lat2)\n",
    "        lon2 = math.radians(lon2)\n",
    "        # Haversine formula\n",
    "        dlat = lat2 - lat1\n",
    "        dlon = lon2 - lon1\n",
    "        a = math.sin(dlat / 2)**2 + math.cos(lat1) * math.cos(lat2) * math.sin(dlon / 2)**2\n",
    "        c = 2 * math.atan2(math.sqrt(a), math.sqrt(1 - a))\n",
    "        # Calculate the distance\n",
    "        distance = earth_radius * c\n",
    "        return distance\n",
    "    \n",
    "    def euclidean_distance(self, x1:float, y1:float, x2:float, y2:float):\n",
    "        return math.sqrt((x1 - x2)**2 + (y1 - y2)**2)\n",
    "\n",
    "    def delta_duration(self, d1, d2):\n",
    "        if type(d1) == pd.Timestamp and type(d2) == pd.Timestamp:\n",
    "            return (d2 - d1).total_seconds()\n",
    "        return d2 - d1\n",
    "\n",
    "    def compute_speeds(self, points:[[float, float, float]]) -> pd.Series:\n",
    "        '''\n",
    "            Compute speed for each Pi to Pi+1\n",
    "            Parameters:\n",
    "            - points: a list of point in format [[longitude, latitude, datetime], ...]\n",
    "            Returns:\n",
    "            - distances: A pandas.Series of floats for each speed\n",
    "        '''\n",
    "        speed = pd.Series()\n",
    "        if(self.distance_metric == 'haversine'):\n",
    "            compute_distance = self.haversine_distance\n",
    "        elif(self.distance_metric == 'euclidean'):\n",
    "            compute_distance = self.euclidean_distance\n",
    "        for i in range(len(points)-1):\n",
    "            p1 = points[i]\n",
    "            p2 = points[i+1]\n",
    "            distance = compute_distance(p1[1], p1[0], p2[1], p2[0])\n",
    "            duration = self.delta_duration(p1[2], p2[2])\n",
    "            speed[i] = distance / duration\n",
    "        return speed\n",
    "\n",
    "    def predict(self, df=pd.DataFrame):\n",
    "        points = df[[self.lat, self.lng, self.t]].values\n",
    "        speeds = self.compute_speeds(points)\n",
    "        speeds_mean = np.mean(speeds)\n",
    "        speeds_std = np.std(speeds)\n",
    "        threshold = max(speeds_mean - self.sigma_n * speeds_std, 0) # there is no negative speed\n",
    "        y_pred = [False for _ in range(len(df))]\n",
    "        for i in range(len(speeds)):\n",
    "            y_pred[i] = speeds[i] <= threshold\n",
    "        return y_pred"
   ]
  },
  {
   "cell_type": "markdown",
   "metadata": {},
   "source": [
    "### Hyperparameter Optimization - Hyperopt"
   ]
  },
  {
   "cell_type": "code",
   "execution_count": 19,
   "metadata": {},
   "outputs": [],
   "source": [
    "def optimize(params, data):\n",
    "    model = SpeedHampelFilter(**params)\n",
    "    f1s = []\n",
    "    veh_id_unique = data['id'].unique()\n",
    "    for veh_id in veh_id_unique:\n",
    "        trajectory = data[data['id'] == veh_id]\n",
    "        y_true = trajectory['stop']\n",
    "        y_pred = model.predict(trajectory.drop(columns=['stop']))\n",
    "        f1s.append(metrics.f1_score(y_true, y_pred))\n",
    "    return -1.0 * np.mean(f1s)"
   ]
  },
  {
   "cell_type": "code",
   "execution_count": 20,
   "metadata": {},
   "outputs": [],
   "source": [
    "param_space = {\n",
    "    'sigma_n': hp.uniform('sigma_n',0, 5),\n",
    "    'distance_metric': hp.choice('distance_metric', ['euclidean', 'haversine'])\n",
    "}"
   ]
  },
  {
   "cell_type": "code",
   "execution_count": 21,
   "metadata": {},
   "outputs": [],
   "source": [
    "move_stop_train = pd.read_csv(f'{dataset_path}/stop_train.csv')\n",
    "move_stop_train['index'] = move_stop_train.index"
   ]
  },
  {
   "cell_type": "code",
   "execution_count": 22,
   "metadata": {},
   "outputs": [],
   "source": [
    "optimization_function = partial(\n",
    "    optimize,\n",
    "    data=move_stop_train,\n",
    ")"
   ]
  },
  {
   "cell_type": "code",
   "execution_count": 23,
   "metadata": {},
   "outputs": [
    {
     "name": "stdout",
     "output_type": "stream",
     "text": [
      "100%|██████████| 15/15 [34:22<00:00, 137.47s/trial, best loss: -0.39838979808110014]\n",
      "{'distance_metric': 0, 'sigma_n': 2.171828076464357}\n"
     ]
    }
   ],
   "source": [
    "trials = Trials()\n",
    "best_params = fmin(\n",
    "    fn=optimization_function,\n",
    "    space=param_space,\n",
    "    algo=tpe.suggest,\n",
    "    max_evals=15,\n",
    "    trials=trials,\n",
    ")\n",
    "print(best_params)"
   ]
  },
  {
   "cell_type": "markdown",
   "metadata": {},
   "source": [
    "### Test / Validation"
   ]
  },
  {
   "cell_type": "code",
   "execution_count": 28,
   "metadata": {},
   "outputs": [],
   "source": [
    "move_stop_test = pd.read_csv(f'{dataset_path}/stop_test.csv')\n",
    "move_stop_test['index'] = move_stop_test.index\n",
    "veh_id_unique = move_stop_test['id'].unique()"
   ]
  },
  {
   "cell_type": "code",
   "execution_count": 29,
   "metadata": {},
   "outputs": [
    {
     "name": "stdout",
     "output_type": "stream",
     "text": [
      "Accuracy mean: 0.9659137020547024\n",
      "Precision mean: 0.37914336446444397\n",
      "Recall mean: 0.60346203238686\n",
      "F1 mean: 0.43862938089235554\n"
     ]
    }
   ],
   "source": [
    "ac_list = []\n",
    "pr_list = []\n",
    "re_list = []\n",
    "f1_list = []\n",
    "model = SpeedHampelFilter(sigma_n=2.171828076464357, distance_metric='euclidean')\n",
    "data = move_stop_test\n",
    "for veh_id in veh_id_unique:\n",
    "    trajectory = data[data['id'] == veh_id]\n",
    "    y_true = trajectory['stop']\n",
    "    y_pred = model.predict(trajectory.drop(columns=['stop']))\n",
    "\n",
    "    ac_list.append(metrics.accuracy_score(y_true, y_pred))\n",
    "    pr_list.append(metrics.precision_score(y_true, y_pred))\n",
    "    re_list.append(metrics.recall_score(y_true, y_pred))\n",
    "    f1_list.append(metrics.f1_score(y_true, y_pred))\n",
    "\n",
    "ac_mean = np.mean(ac_list)\n",
    "pr_mean = np.mean(pr_list)\n",
    "re_mean = np.mean(re_list)\n",
    "f1_mean = np.mean(f1_list)\n",
    "\n",
    "print('Accuracy mean:', ac_mean)\n",
    "print('Precision mean:', pr_mean)\n",
    "print('Recall mean:', re_mean)\n",
    "print('F1 mean:', f1_mean)"
   ]
  }
 ],
 "metadata": {
  "kernelspec": {
   "display_name": "py38",
   "language": "python",
   "name": "python3"
  },
  "language_info": {
   "codemirror_mode": {
    "name": "ipython",
    "version": 3
   },
   "file_extension": ".py",
   "mimetype": "text/x-python",
   "name": "python",
   "nbconvert_exporter": "python",
   "pygments_lexer": "ipython3",
   "version": "3.8.17"
  },
  "orig_nbformat": 4
 },
 "nbformat": 4,
 "nbformat_minor": 2
}
